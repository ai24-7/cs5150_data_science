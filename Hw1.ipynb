{
 "cells": [
  {
   "cell_type": "code",
   "execution_count": 49,
   "id": "56ee13df-5649-4f06-ae40-92d788fb76ee",
   "metadata": {},
   "outputs": [],
   "source": [
    "import pandas as pd\n",
    "import numpy as np\n",
    "import matplotlib.pyplot as plt\n",
    "import seaborn as sns"
   ]
  },
  {
   "cell_type": "code",
   "execution_count": 62,
   "id": "d19259a5-c866-431f-a421-be36776dcbcc",
   "metadata": {},
   "outputs": [],
   "source": [
    "df = pd.read_csv('GSE64881_segmentation_at_30000bp.passqc.multibam.txt', delimiter=\"\\t\")"
   ]
  },
  {
   "cell_type": "code",
   "execution_count": 65,
   "id": "cb3e7d30-b13a-4638-881c-6f57d458712b",
   "metadata": {},
   "outputs": [
    {
     "data": {
      "text/plain": [
       "count     90877\n",
       "unique       35\n",
       "top        chr1\n",
       "freq       6574\n",
       "Name: chrom, dtype: object"
      ]
     },
     "execution_count": 65,
     "metadata": {},
     "output_type": "execute_result"
    }
   ],
   "source": [
    "df[\"chrom\"].describe()"
   ]
  },
  {
   "cell_type": "code",
   "execution_count": 66,
   "id": "b569cf13-2144-470c-a97d-44618fd8b764",
   "metadata": {},
   "outputs": [
    {
     "data": {
      "text/html": [
       "<div>\n",
       "<style scoped>\n",
       "    .dataframe tbody tr th:only-of-type {\n",
       "        vertical-align: middle;\n",
       "    }\n",
       "\n",
       "    .dataframe tbody tr th {\n",
       "        vertical-align: top;\n",
       "    }\n",
       "\n",
       "    .dataframe thead th {\n",
       "        text-align: right;\n",
       "    }\n",
       "</style>\n",
       "<table border=\"1\" class=\"dataframe\">\n",
       "  <thead>\n",
       "    <tr style=\"text-align: right;\">\n",
       "      <th></th>\n",
       "      <th>chrom</th>\n",
       "      <th>start</th>\n",
       "      <th>stop</th>\n",
       "      <th>F10A2</th>\n",
       "      <th>F10A3</th>\n",
       "      <th>F10A4</th>\n",
       "      <th>F10A5</th>\n",
       "      <th>F10A6</th>\n",
       "      <th>F10B1</th>\n",
       "      <th>F10B2</th>\n",
       "      <th>...</th>\n",
       "      <th>F9F2</th>\n",
       "      <th>F9F3</th>\n",
       "      <th>F9F4</th>\n",
       "      <th>F9F5</th>\n",
       "      <th>F9F6</th>\n",
       "      <th>F9G1</th>\n",
       "      <th>F9G2</th>\n",
       "      <th>F9G3</th>\n",
       "      <th>F9G4</th>\n",
       "      <th>F9G5</th>\n",
       "    </tr>\n",
       "  </thead>\n",
       "  <tbody>\n",
       "    <tr>\n",
       "      <th>0</th>\n",
       "      <td>chr1</td>\n",
       "      <td>0</td>\n",
       "      <td>30000</td>\n",
       "      <td>0</td>\n",
       "      <td>0</td>\n",
       "      <td>0</td>\n",
       "      <td>0</td>\n",
       "      <td>0</td>\n",
       "      <td>0</td>\n",
       "      <td>0</td>\n",
       "      <td>...</td>\n",
       "      <td>0</td>\n",
       "      <td>0</td>\n",
       "      <td>0</td>\n",
       "      <td>0</td>\n",
       "      <td>0</td>\n",
       "      <td>0</td>\n",
       "      <td>0</td>\n",
       "      <td>0</td>\n",
       "      <td>0</td>\n",
       "      <td>0</td>\n",
       "    </tr>\n",
       "    <tr>\n",
       "      <th>1</th>\n",
       "      <td>chr1</td>\n",
       "      <td>30000</td>\n",
       "      <td>60000</td>\n",
       "      <td>0</td>\n",
       "      <td>0</td>\n",
       "      <td>0</td>\n",
       "      <td>0</td>\n",
       "      <td>0</td>\n",
       "      <td>0</td>\n",
       "      <td>0</td>\n",
       "      <td>...</td>\n",
       "      <td>0</td>\n",
       "      <td>0</td>\n",
       "      <td>0</td>\n",
       "      <td>0</td>\n",
       "      <td>0</td>\n",
       "      <td>0</td>\n",
       "      <td>0</td>\n",
       "      <td>0</td>\n",
       "      <td>0</td>\n",
       "      <td>0</td>\n",
       "    </tr>\n",
       "    <tr>\n",
       "      <th>2</th>\n",
       "      <td>chr1</td>\n",
       "      <td>60000</td>\n",
       "      <td>90000</td>\n",
       "      <td>0</td>\n",
       "      <td>0</td>\n",
       "      <td>0</td>\n",
       "      <td>0</td>\n",
       "      <td>0</td>\n",
       "      <td>0</td>\n",
       "      <td>0</td>\n",
       "      <td>...</td>\n",
       "      <td>0</td>\n",
       "      <td>0</td>\n",
       "      <td>0</td>\n",
       "      <td>0</td>\n",
       "      <td>0</td>\n",
       "      <td>0</td>\n",
       "      <td>0</td>\n",
       "      <td>0</td>\n",
       "      <td>0</td>\n",
       "      <td>0</td>\n",
       "    </tr>\n",
       "    <tr>\n",
       "      <th>3</th>\n",
       "      <td>chr1</td>\n",
       "      <td>90000</td>\n",
       "      <td>120000</td>\n",
       "      <td>0</td>\n",
       "      <td>0</td>\n",
       "      <td>0</td>\n",
       "      <td>0</td>\n",
       "      <td>0</td>\n",
       "      <td>0</td>\n",
       "      <td>0</td>\n",
       "      <td>...</td>\n",
       "      <td>0</td>\n",
       "      <td>0</td>\n",
       "      <td>0</td>\n",
       "      <td>0</td>\n",
       "      <td>0</td>\n",
       "      <td>0</td>\n",
       "      <td>0</td>\n",
       "      <td>0</td>\n",
       "      <td>0</td>\n",
       "      <td>0</td>\n",
       "    </tr>\n",
       "    <tr>\n",
       "      <th>4</th>\n",
       "      <td>chr1</td>\n",
       "      <td>120000</td>\n",
       "      <td>150000</td>\n",
       "      <td>0</td>\n",
       "      <td>0</td>\n",
       "      <td>0</td>\n",
       "      <td>0</td>\n",
       "      <td>0</td>\n",
       "      <td>0</td>\n",
       "      <td>0</td>\n",
       "      <td>...</td>\n",
       "      <td>0</td>\n",
       "      <td>0</td>\n",
       "      <td>0</td>\n",
       "      <td>0</td>\n",
       "      <td>0</td>\n",
       "      <td>0</td>\n",
       "      <td>0</td>\n",
       "      <td>0</td>\n",
       "      <td>0</td>\n",
       "      <td>0</td>\n",
       "    </tr>\n",
       "    <tr>\n",
       "      <th>...</th>\n",
       "      <td>...</td>\n",
       "      <td>...</td>\n",
       "      <td>...</td>\n",
       "      <td>...</td>\n",
       "      <td>...</td>\n",
       "      <td>...</td>\n",
       "      <td>...</td>\n",
       "      <td>...</td>\n",
       "      <td>...</td>\n",
       "      <td>...</td>\n",
       "      <td>...</td>\n",
       "      <td>...</td>\n",
       "      <td>...</td>\n",
       "      <td>...</td>\n",
       "      <td>...</td>\n",
       "      <td>...</td>\n",
       "      <td>...</td>\n",
       "      <td>...</td>\n",
       "      <td>...</td>\n",
       "      <td>...</td>\n",
       "      <td>...</td>\n",
       "    </tr>\n",
       "    <tr>\n",
       "      <th>90872</th>\n",
       "      <td>chr4_random</td>\n",
       "      <td>150000</td>\n",
       "      <td>160594</td>\n",
       "      <td>0</td>\n",
       "      <td>0</td>\n",
       "      <td>0</td>\n",
       "      <td>0</td>\n",
       "      <td>0</td>\n",
       "      <td>0</td>\n",
       "      <td>0</td>\n",
       "      <td>...</td>\n",
       "      <td>0</td>\n",
       "      <td>0</td>\n",
       "      <td>0</td>\n",
       "      <td>0</td>\n",
       "      <td>0</td>\n",
       "      <td>0</td>\n",
       "      <td>0</td>\n",
       "      <td>0</td>\n",
       "      <td>0</td>\n",
       "      <td>0</td>\n",
       "    </tr>\n",
       "    <tr>\n",
       "      <th>90873</th>\n",
       "      <td>chr3_random</td>\n",
       "      <td>0</td>\n",
       "      <td>30000</td>\n",
       "      <td>0</td>\n",
       "      <td>0</td>\n",
       "      <td>0</td>\n",
       "      <td>0</td>\n",
       "      <td>0</td>\n",
       "      <td>0</td>\n",
       "      <td>0</td>\n",
       "      <td>...</td>\n",
       "      <td>0</td>\n",
       "      <td>0</td>\n",
       "      <td>0</td>\n",
       "      <td>0</td>\n",
       "      <td>0</td>\n",
       "      <td>0</td>\n",
       "      <td>0</td>\n",
       "      <td>0</td>\n",
       "      <td>0</td>\n",
       "      <td>0</td>\n",
       "    </tr>\n",
       "    <tr>\n",
       "      <th>90874</th>\n",
       "      <td>chr3_random</td>\n",
       "      <td>30000</td>\n",
       "      <td>41899</td>\n",
       "      <td>0</td>\n",
       "      <td>0</td>\n",
       "      <td>0</td>\n",
       "      <td>0</td>\n",
       "      <td>0</td>\n",
       "      <td>0</td>\n",
       "      <td>0</td>\n",
       "      <td>...</td>\n",
       "      <td>0</td>\n",
       "      <td>0</td>\n",
       "      <td>0</td>\n",
       "      <td>0</td>\n",
       "      <td>0</td>\n",
       "      <td>0</td>\n",
       "      <td>0</td>\n",
       "      <td>0</td>\n",
       "      <td>0</td>\n",
       "      <td>0</td>\n",
       "    </tr>\n",
       "    <tr>\n",
       "      <th>90875</th>\n",
       "      <td>chrM</td>\n",
       "      <td>0</td>\n",
       "      <td>16299</td>\n",
       "      <td>1</td>\n",
       "      <td>1</td>\n",
       "      <td>1</td>\n",
       "      <td>1</td>\n",
       "      <td>1</td>\n",
       "      <td>1</td>\n",
       "      <td>1</td>\n",
       "      <td>...</td>\n",
       "      <td>1</td>\n",
       "      <td>1</td>\n",
       "      <td>1</td>\n",
       "      <td>1</td>\n",
       "      <td>1</td>\n",
       "      <td>1</td>\n",
       "      <td>1</td>\n",
       "      <td>1</td>\n",
       "      <td>1</td>\n",
       "      <td>1</td>\n",
       "    </tr>\n",
       "    <tr>\n",
       "      <th>90876</th>\n",
       "      <td>chr16_random</td>\n",
       "      <td>0</td>\n",
       "      <td>3994</td>\n",
       "      <td>0</td>\n",
       "      <td>0</td>\n",
       "      <td>0</td>\n",
       "      <td>0</td>\n",
       "      <td>0</td>\n",
       "      <td>0</td>\n",
       "      <td>0</td>\n",
       "      <td>...</td>\n",
       "      <td>0</td>\n",
       "      <td>0</td>\n",
       "      <td>0</td>\n",
       "      <td>0</td>\n",
       "      <td>0</td>\n",
       "      <td>0</td>\n",
       "      <td>0</td>\n",
       "      <td>0</td>\n",
       "      <td>0</td>\n",
       "      <td>0</td>\n",
       "    </tr>\n",
       "  </tbody>\n",
       "</table>\n",
       "<p>90877 rows × 411 columns</p>\n",
       "</div>"
      ],
      "text/plain": [
       "              chrom   start    stop  F10A2  F10A3  F10A4  F10A5  F10A6  F10B1  \\\n",
       "0              chr1       0   30000      0      0      0      0      0      0   \n",
       "1              chr1   30000   60000      0      0      0      0      0      0   \n",
       "2              chr1   60000   90000      0      0      0      0      0      0   \n",
       "3              chr1   90000  120000      0      0      0      0      0      0   \n",
       "4              chr1  120000  150000      0      0      0      0      0      0   \n",
       "...             ...     ...     ...    ...    ...    ...    ...    ...    ...   \n",
       "90872   chr4_random  150000  160594      0      0      0      0      0      0   \n",
       "90873   chr3_random       0   30000      0      0      0      0      0      0   \n",
       "90874   chr3_random   30000   41899      0      0      0      0      0      0   \n",
       "90875          chrM       0   16299      1      1      1      1      1      1   \n",
       "90876  chr16_random       0    3994      0      0      0      0      0      0   \n",
       "\n",
       "       F10B2  ...  F9F2  F9F3  F9F4  F9F5  F9F6  F9G1  F9G2  F9G3  F9G4  F9G5  \n",
       "0          0  ...     0     0     0     0     0     0     0     0     0     0  \n",
       "1          0  ...     0     0     0     0     0     0     0     0     0     0  \n",
       "2          0  ...     0     0     0     0     0     0     0     0     0     0  \n",
       "3          0  ...     0     0     0     0     0     0     0     0     0     0  \n",
       "4          0  ...     0     0     0     0     0     0     0     0     0     0  \n",
       "...      ...  ...   ...   ...   ...   ...   ...   ...   ...   ...   ...   ...  \n",
       "90872      0  ...     0     0     0     0     0     0     0     0     0     0  \n",
       "90873      0  ...     0     0     0     0     0     0     0     0     0     0  \n",
       "90874      0  ...     0     0     0     0     0     0     0     0     0     0  \n",
       "90875      1  ...     1     1     1     1     1     1     1     1     1     1  \n",
       "90876      0  ...     0     0     0     0     0     0     0     0     0     0  \n",
       "\n",
       "[90877 rows x 411 columns]"
      ]
     },
     "execution_count": 66,
     "metadata": {},
     "output_type": "execute_result"
    }
   ],
   "source": [
    "df"
   ]
  },
  {
   "cell_type": "code",
   "execution_count": 61,
   "id": "fe36dbff-e844-4591-9763-3ea6f325698a",
   "metadata": {},
   "outputs": [],
   "source": [
    "df = df.drop(['chrom', 'start', 'stop'], axis=1)"
   ]
  },
  {
   "cell_type": "code",
   "execution_count": 52,
   "id": "e933d3ff-bd1a-4a68-b62f-da5464de5fff",
   "metadata": {},
   "outputs": [
    {
     "data": {
      "text/plain": [
       "Index(['F10A2', 'F10A3', 'F10A4', 'F10A5', 'F10A6', 'F10B1', 'F10B2', 'F10B3',\n",
       "       'F10B4', 'F10B5',\n",
       "       ...\n",
       "       'F9F2', 'F9F3', 'F9F4', 'F9F5', 'F9F6', 'F9G1', 'F9G2', 'F9G3', 'F9G4',\n",
       "       'F9G5'],\n",
       "      dtype='object', length=408)"
      ]
     },
     "execution_count": 52,
     "metadata": {},
     "output_type": "execute_result"
    }
   ],
   "source": [
    "df.columns"
   ]
  },
  {
   "cell_type": "code",
   "execution_count": 53,
   "id": "b912675e-aa46-46f5-b447-dc3023a881b8",
   "metadata": {},
   "outputs": [
    {
     "name": "stdout",
     "output_type": "stream",
     "text": [
      "<class 'pandas.core.frame.DataFrame'>\n",
      "RangeIndex: 90877 entries, 0 to 90876\n",
      "Columns: 408 entries, F10A2 to F9G5\n",
      "dtypes: int64(408)\n",
      "memory usage: 282.9 MB\n"
     ]
    }
   ],
   "source": [
    "df.info()"
   ]
  },
  {
   "cell_type": "code",
   "execution_count": 6,
   "id": "dd8a8b93-9051-4886-a949-d3ce03fa1472",
   "metadata": {},
   "outputs": [],
   "source": [
    "# number of rows (genomic windows) -> 90877\n",
    "# number of cols (NPs) -> 408"
   ]
  },
  {
   "cell_type": "code",
   "execution_count": 7,
   "id": "827f1d62-2982-49cb-973d-634d417d622f",
   "metadata": {},
   "outputs": [
    {
     "data": {
      "text/plain": [
       "5482.811274509804"
      ]
     },
     "execution_count": 7,
     "metadata": {},
     "output_type": "execute_result"
    }
   ],
   "source": [
    "df.sum().mean()"
   ]
  },
  {
   "cell_type": "code",
   "execution_count": 8,
   "id": "d47a0f09-f158-44eb-9fec-0bce5e26d89c",
   "metadata": {},
   "outputs": [],
   "source": [
    "# avg number of windows in any NP -> 5483"
   ]
  },
  {
   "cell_type": "code",
   "execution_count": 9,
   "id": "7f22ce09-9854-4182-b6b2-a16f13ca654a",
   "metadata": {},
   "outputs": [
    {
     "data": {
      "text/plain": [
       "31"
      ]
     },
     "execution_count": 9,
     "metadata": {},
     "output_type": "execute_result"
    }
   ],
   "source": [
    "df.sum().min()"
   ]
  },
  {
   "cell_type": "code",
   "execution_count": 10,
   "id": "7a58f1c0-332b-4f47-8dc5-f56a725a3087",
   "metadata": {},
   "outputs": [],
   "source": [
    "#  min number of windows in any NP -> 31"
   ]
  },
  {
   "cell_type": "code",
   "execution_count": 11,
   "id": "4e57750a-badb-44c8-b9f9-f6648e959da2",
   "metadata": {},
   "outputs": [
    {
     "data": {
      "text/plain": [
       "21249"
      ]
     },
     "execution_count": 11,
     "metadata": {},
     "output_type": "execute_result"
    }
   ],
   "source": [
    "df.sum().max()"
   ]
  },
  {
   "cell_type": "code",
   "execution_count": 12,
   "id": "84013086-e455-4d5f-89d3-470a1d9a93fb",
   "metadata": {},
   "outputs": [],
   "source": [
    "# max number of windows in any NP -> 21249"
   ]
  },
  {
   "cell_type": "code",
   "execution_count": 13,
   "id": "4db93c89-0a9d-4358-821b-a534b4853f37",
   "metadata": {},
   "outputs": [
    {
     "data": {
      "text/plain": [
       "24.615546287839607"
      ]
     },
     "execution_count": 13,
     "metadata": {},
     "output_type": "execute_result"
    }
   ],
   "source": [
    "df.sum(axis=1).mean()"
   ]
  },
  {
   "cell_type": "code",
   "execution_count": 14,
   "id": "6a54fe91-b75e-432c-8235-9ff6178cab50",
   "metadata": {},
   "outputs": [],
   "source": [
    "#avg number of NPs per windows-> 25"
   ]
  },
  {
   "cell_type": "code",
   "execution_count": 15,
   "id": "c9efe35d-334a-4663-ba79-a9750e4a043b",
   "metadata": {},
   "outputs": [
    {
     "name": "stdout",
     "output_type": "stream",
     "text": [
      "0\n",
      "408\n"
     ]
    }
   ],
   "source": [
    "print(df.sum(axis=1).min())\n",
    "print(df.sum(axis=1).max())"
   ]
  },
  {
   "cell_type": "code",
   "execution_count": 59,
   "id": "adc52af1-25c3-4276-b0ce-80d00d224e13",
   "metadata": {},
   "outputs": [
    {
     "data": {
      "text/html": [
       "<div>\n",
       "<style scoped>\n",
       "    .dataframe tbody tr th:only-of-type {\n",
       "        vertical-align: middle;\n",
       "    }\n",
       "\n",
       "    .dataframe tbody tr th {\n",
       "        vertical-align: top;\n",
       "    }\n",
       "\n",
       "    .dataframe thead th {\n",
       "        text-align: right;\n",
       "    }\n",
       "</style>\n",
       "<table border=\"1\" class=\"dataframe\">\n",
       "  <thead>\n",
       "    <tr style=\"text-align: right;\">\n",
       "      <th></th>\n",
       "      <th>F10A2</th>\n",
       "      <th>F10A3</th>\n",
       "      <th>F10A4</th>\n",
       "      <th>F10A5</th>\n",
       "      <th>F10A6</th>\n",
       "      <th>F10B1</th>\n",
       "      <th>F10B2</th>\n",
       "      <th>F10B3</th>\n",
       "      <th>F10B4</th>\n",
       "      <th>F10B5</th>\n",
       "      <th>...</th>\n",
       "      <th>F9F2</th>\n",
       "      <th>F9F3</th>\n",
       "      <th>F9F4</th>\n",
       "      <th>F9F5</th>\n",
       "      <th>F9F6</th>\n",
       "      <th>F9G1</th>\n",
       "      <th>F9G2</th>\n",
       "      <th>F9G3</th>\n",
       "      <th>F9G4</th>\n",
       "      <th>F9G5</th>\n",
       "    </tr>\n",
       "  </thead>\n",
       "  <tbody>\n",
       "    <tr>\n",
       "      <th>0</th>\n",
       "      <td>0</td>\n",
       "      <td>0</td>\n",
       "      <td>0</td>\n",
       "      <td>0</td>\n",
       "      <td>0</td>\n",
       "      <td>0</td>\n",
       "      <td>0</td>\n",
       "      <td>0</td>\n",
       "      <td>0</td>\n",
       "      <td>0</td>\n",
       "      <td>...</td>\n",
       "      <td>0</td>\n",
       "      <td>0</td>\n",
       "      <td>0</td>\n",
       "      <td>0</td>\n",
       "      <td>0</td>\n",
       "      <td>0</td>\n",
       "      <td>0</td>\n",
       "      <td>0</td>\n",
       "      <td>0</td>\n",
       "      <td>0</td>\n",
       "    </tr>\n",
       "    <tr>\n",
       "      <th>1</th>\n",
       "      <td>0</td>\n",
       "      <td>0</td>\n",
       "      <td>0</td>\n",
       "      <td>0</td>\n",
       "      <td>0</td>\n",
       "      <td>0</td>\n",
       "      <td>0</td>\n",
       "      <td>0</td>\n",
       "      <td>0</td>\n",
       "      <td>0</td>\n",
       "      <td>...</td>\n",
       "      <td>0</td>\n",
       "      <td>0</td>\n",
       "      <td>0</td>\n",
       "      <td>0</td>\n",
       "      <td>0</td>\n",
       "      <td>0</td>\n",
       "      <td>0</td>\n",
       "      <td>0</td>\n",
       "      <td>0</td>\n",
       "      <td>0</td>\n",
       "    </tr>\n",
       "    <tr>\n",
       "      <th>2</th>\n",
       "      <td>0</td>\n",
       "      <td>0</td>\n",
       "      <td>0</td>\n",
       "      <td>0</td>\n",
       "      <td>0</td>\n",
       "      <td>0</td>\n",
       "      <td>0</td>\n",
       "      <td>0</td>\n",
       "      <td>0</td>\n",
       "      <td>0</td>\n",
       "      <td>...</td>\n",
       "      <td>0</td>\n",
       "      <td>0</td>\n",
       "      <td>0</td>\n",
       "      <td>0</td>\n",
       "      <td>0</td>\n",
       "      <td>0</td>\n",
       "      <td>0</td>\n",
       "      <td>0</td>\n",
       "      <td>0</td>\n",
       "      <td>0</td>\n",
       "    </tr>\n",
       "    <tr>\n",
       "      <th>3</th>\n",
       "      <td>0</td>\n",
       "      <td>0</td>\n",
       "      <td>0</td>\n",
       "      <td>0</td>\n",
       "      <td>0</td>\n",
       "      <td>0</td>\n",
       "      <td>0</td>\n",
       "      <td>0</td>\n",
       "      <td>0</td>\n",
       "      <td>0</td>\n",
       "      <td>...</td>\n",
       "      <td>0</td>\n",
       "      <td>0</td>\n",
       "      <td>0</td>\n",
       "      <td>0</td>\n",
       "      <td>0</td>\n",
       "      <td>0</td>\n",
       "      <td>0</td>\n",
       "      <td>0</td>\n",
       "      <td>0</td>\n",
       "      <td>0</td>\n",
       "    </tr>\n",
       "    <tr>\n",
       "      <th>4</th>\n",
       "      <td>0</td>\n",
       "      <td>0</td>\n",
       "      <td>0</td>\n",
       "      <td>0</td>\n",
       "      <td>0</td>\n",
       "      <td>0</td>\n",
       "      <td>0</td>\n",
       "      <td>0</td>\n",
       "      <td>0</td>\n",
       "      <td>0</td>\n",
       "      <td>...</td>\n",
       "      <td>0</td>\n",
       "      <td>0</td>\n",
       "      <td>0</td>\n",
       "      <td>0</td>\n",
       "      <td>0</td>\n",
       "      <td>0</td>\n",
       "      <td>0</td>\n",
       "      <td>0</td>\n",
       "      <td>0</td>\n",
       "      <td>0</td>\n",
       "    </tr>\n",
       "    <tr>\n",
       "      <th>...</th>\n",
       "      <td>...</td>\n",
       "      <td>...</td>\n",
       "      <td>...</td>\n",
       "      <td>...</td>\n",
       "      <td>...</td>\n",
       "      <td>...</td>\n",
       "      <td>...</td>\n",
       "      <td>...</td>\n",
       "      <td>...</td>\n",
       "      <td>...</td>\n",
       "      <td>...</td>\n",
       "      <td>...</td>\n",
       "      <td>...</td>\n",
       "      <td>...</td>\n",
       "      <td>...</td>\n",
       "      <td>...</td>\n",
       "      <td>...</td>\n",
       "      <td>...</td>\n",
       "      <td>...</td>\n",
       "      <td>...</td>\n",
       "      <td>...</td>\n",
       "    </tr>\n",
       "    <tr>\n",
       "      <th>90872</th>\n",
       "      <td>0</td>\n",
       "      <td>0</td>\n",
       "      <td>0</td>\n",
       "      <td>0</td>\n",
       "      <td>0</td>\n",
       "      <td>0</td>\n",
       "      <td>0</td>\n",
       "      <td>0</td>\n",
       "      <td>0</td>\n",
       "      <td>0</td>\n",
       "      <td>...</td>\n",
       "      <td>0</td>\n",
       "      <td>0</td>\n",
       "      <td>0</td>\n",
       "      <td>0</td>\n",
       "      <td>0</td>\n",
       "      <td>0</td>\n",
       "      <td>0</td>\n",
       "      <td>0</td>\n",
       "      <td>0</td>\n",
       "      <td>0</td>\n",
       "    </tr>\n",
       "    <tr>\n",
       "      <th>90873</th>\n",
       "      <td>0</td>\n",
       "      <td>0</td>\n",
       "      <td>0</td>\n",
       "      <td>0</td>\n",
       "      <td>0</td>\n",
       "      <td>0</td>\n",
       "      <td>0</td>\n",
       "      <td>0</td>\n",
       "      <td>0</td>\n",
       "      <td>0</td>\n",
       "      <td>...</td>\n",
       "      <td>0</td>\n",
       "      <td>0</td>\n",
       "      <td>0</td>\n",
       "      <td>0</td>\n",
       "      <td>0</td>\n",
       "      <td>0</td>\n",
       "      <td>0</td>\n",
       "      <td>0</td>\n",
       "      <td>0</td>\n",
       "      <td>0</td>\n",
       "    </tr>\n",
       "    <tr>\n",
       "      <th>90874</th>\n",
       "      <td>0</td>\n",
       "      <td>0</td>\n",
       "      <td>0</td>\n",
       "      <td>0</td>\n",
       "      <td>0</td>\n",
       "      <td>0</td>\n",
       "      <td>0</td>\n",
       "      <td>0</td>\n",
       "      <td>0</td>\n",
       "      <td>0</td>\n",
       "      <td>...</td>\n",
       "      <td>0</td>\n",
       "      <td>0</td>\n",
       "      <td>0</td>\n",
       "      <td>0</td>\n",
       "      <td>0</td>\n",
       "      <td>0</td>\n",
       "      <td>0</td>\n",
       "      <td>0</td>\n",
       "      <td>0</td>\n",
       "      <td>0</td>\n",
       "    </tr>\n",
       "    <tr>\n",
       "      <th>90875</th>\n",
       "      <td>1</td>\n",
       "      <td>1</td>\n",
       "      <td>1</td>\n",
       "      <td>1</td>\n",
       "      <td>1</td>\n",
       "      <td>1</td>\n",
       "      <td>1</td>\n",
       "      <td>1</td>\n",
       "      <td>1</td>\n",
       "      <td>1</td>\n",
       "      <td>...</td>\n",
       "      <td>1</td>\n",
       "      <td>1</td>\n",
       "      <td>1</td>\n",
       "      <td>1</td>\n",
       "      <td>1</td>\n",
       "      <td>1</td>\n",
       "      <td>1</td>\n",
       "      <td>1</td>\n",
       "      <td>1</td>\n",
       "      <td>1</td>\n",
       "    </tr>\n",
       "    <tr>\n",
       "      <th>90876</th>\n",
       "      <td>0</td>\n",
       "      <td>0</td>\n",
       "      <td>0</td>\n",
       "      <td>0</td>\n",
       "      <td>0</td>\n",
       "      <td>0</td>\n",
       "      <td>0</td>\n",
       "      <td>0</td>\n",
       "      <td>0</td>\n",
       "      <td>0</td>\n",
       "      <td>...</td>\n",
       "      <td>0</td>\n",
       "      <td>0</td>\n",
       "      <td>0</td>\n",
       "      <td>0</td>\n",
       "      <td>0</td>\n",
       "      <td>0</td>\n",
       "      <td>0</td>\n",
       "      <td>0</td>\n",
       "      <td>0</td>\n",
       "      <td>0</td>\n",
       "    </tr>\n",
       "  </tbody>\n",
       "</table>\n",
       "<p>90877 rows × 408 columns</p>\n",
       "</div>"
      ],
      "text/plain": [
       "       F10A2  F10A3  F10A4  F10A5  F10A6  F10B1  F10B2  F10B3  F10B4  F10B5  \\\n",
       "0          0      0      0      0      0      0      0      0      0      0   \n",
       "1          0      0      0      0      0      0      0      0      0      0   \n",
       "2          0      0      0      0      0      0      0      0      0      0   \n",
       "3          0      0      0      0      0      0      0      0      0      0   \n",
       "4          0      0      0      0      0      0      0      0      0      0   \n",
       "...      ...    ...    ...    ...    ...    ...    ...    ...    ...    ...   \n",
       "90872      0      0      0      0      0      0      0      0      0      0   \n",
       "90873      0      0      0      0      0      0      0      0      0      0   \n",
       "90874      0      0      0      0      0      0      0      0      0      0   \n",
       "90875      1      1      1      1      1      1      1      1      1      1   \n",
       "90876      0      0      0      0      0      0      0      0      0      0   \n",
       "\n",
       "       ...  F9F2  F9F3  F9F4  F9F5  F9F6  F9G1  F9G2  F9G3  F9G4  F9G5  \n",
       "0      ...     0     0     0     0     0     0     0     0     0     0  \n",
       "1      ...     0     0     0     0     0     0     0     0     0     0  \n",
       "2      ...     0     0     0     0     0     0     0     0     0     0  \n",
       "3      ...     0     0     0     0     0     0     0     0     0     0  \n",
       "4      ...     0     0     0     0     0     0     0     0     0     0  \n",
       "...    ...   ...   ...   ...   ...   ...   ...   ...   ...   ...   ...  \n",
       "90872  ...     0     0     0     0     0     0     0     0     0     0  \n",
       "90873  ...     0     0     0     0     0     0     0     0     0     0  \n",
       "90874  ...     0     0     0     0     0     0     0     0     0     0  \n",
       "90875  ...     1     1     1     1     1     1     1     1     1     1  \n",
       "90876  ...     0     0     0     0     0     0     0     0     0     0  \n",
       "\n",
       "[90877 rows x 408 columns]"
      ]
     },
     "execution_count": 59,
     "metadata": {},
     "output_type": "execute_result"
    }
   ],
   "source": [
    "df"
   ]
  },
  {
   "cell_type": "code",
   "execution_count": 19,
   "id": "482b587a-8500-41a2-b9ad-329d5d2d310d",
   "metadata": {},
   "outputs": [
    {
     "data": {
      "text/plain": [
       "5482.811274509804"
      ]
     },
     "execution_count": 19,
     "metadata": {},
     "output_type": "execute_result"
    }
   ],
   "source": [
    "df.sum().mean()"
   ]
  },
  {
   "cell_type": "code",
   "execution_count": 22,
   "id": "777e809e-5109-4396-8a9d-ebe1f88e44e6",
   "metadata": {},
   "outputs": [
    {
     "data": {
      "text/plain": [
       "24.615546287839607"
      ]
     },
     "execution_count": 22,
     "metadata": {},
     "output_type": "execute_result"
    }
   ],
   "source": [
    "df.sum(axis=1).mean()"
   ]
  },
  {
   "cell_type": "code",
   "execution_count": 54,
   "id": "a003cc71-d982-46c3-b00b-720c38277e23",
   "metadata": {},
   "outputs": [],
   "source": [
    "detection_freq_wind = df.sum()/(df.sum().max()-df.sum().min())"
   ]
  },
  {
   "cell_type": "code",
   "execution_count": 55,
   "id": "ff1c3028-3025-4d28-8d94-4d7179f096eb",
   "metadata": {},
   "outputs": [
    {
     "data": {
      "text/plain": [
       "F10A2    0.276982\n",
       "F10A3    0.356584\n",
       "F10A4    0.233198\n",
       "F10A5    0.180554\n",
       "F10A6    0.039401\n",
       "           ...   \n",
       "F9G1     0.111556\n",
       "F9G2     0.167782\n",
       "F9G3     0.161467\n",
       "F9G4     0.095909\n",
       "F9G5     0.266283\n",
       "Length: 408, dtype: float64"
      ]
     },
     "execution_count": 55,
     "metadata": {},
     "output_type": "execute_result"
    }
   ],
   "source": [
    "detection_freq_wind"
   ]
  },
  {
   "cell_type": "code",
   "execution_count": 56,
   "id": "68520a03-94a0-481f-8f8c-817b8f8499c1",
   "metadata": {},
   "outputs": [
    {
     "data": {
      "text/plain": [
       "<Axes: >"
      ]
     },
     "execution_count": 56,
     "metadata": {},
     "output_type": "execute_result"
    },
    {
     "data": {
      "image/png": "[encoded data removed]",
      "text/plain": [
       "<Figure size 640x480 with 1 Axes>"
      ]
     },
     "metadata": {},
     "output_type": "display_data"
    }
   ],
   "source": [
    "sns.scatterplot(detection_freq_wind)"
   ]
  },
  {
   "cell_type": "code",
   "execution_count": 57,
   "id": "169f0f12-ee0f-485c-b88d-5c6473bd7f01",
   "metadata": {},
   "outputs": [],
   "source": [
    "detection_freq_np = df.sum(axis=1)/(df.sum(axis=1).max() - df.sum(axis=1).min())"
   ]
  },
  {
   "cell_type": "code",
   "execution_count": 58,
   "id": "595c7638-2cfa-49ac-8e24-becd5b72265e",
   "metadata": {},
   "outputs": [
    {
     "data": {
      "text/plain": [
       "<Axes: >"
      ]
     },
     "execution_count": 58,
     "metadata": {},
     "output_type": "execute_result"
    },
    {
     "data": {
      "image/png": "[encoded data removed]",
      "text/plain": [
       "<Figure size 640x480 with 1 Axes>"
      ]
     },
     "metadata": {},
     "output_type": "display_data"
    }
   ],
   "source": [
    "sns.scatterplot(detection_freq_np)"
   ]
  },
  {
   "cell_type": "code",
   "execution_count": null,
   "id": "15feaab6-883c-4648-8668-910742280b51",
   "metadata": {},
   "outputs": [],
   "source": []
  },
  {
   "cell_type": "code",
   "execution_count": null,
   "id": "0757d2bf-488c-466c-b660-5809e83ed1e7",
   "metadata": {},
   "outputs": [],
   "source": []
  },
  {
   "cell_type": "code",
   "execution_count": null,
   "id": "72b1850e-be14-4725-a57f-b2e7e99ed60d",
   "metadata": {},
   "outputs": [],
   "source": []
  }
 ],
 "metadata": {
  "kernelspec": {
   "display_name": "Python 3 (ipykernel)",
   "language": "python",
   "name": "python3"
  },
  "language_info": {
   "codemirror_mode": {
    "name": "ipython",
    "version": 3
   },
   "file_extension": ".py",
   "mimetype": "text/x-python",
   "name": "python",
   "nbconvert_exporter": "python",
   "pygments_lexer": "ipython3",
   "version": "3.8.16"
  }
 },
 "nbformat": 4,
 "nbformat_minor": 5
}
