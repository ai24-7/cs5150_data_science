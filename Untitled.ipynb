{
 "cells": [
  {
   "cell_type": "code",
   "execution_count": 1,
   "id": "3876c81c-8d28-43e3-bba2-a77e9cbdb940",
   "metadata": {},
   "outputs": [
    {
     "name": "stdout",
     "output_type": "stream",
     "text": [
      "Centroids:\n",
      " [[5.5 3. ]\n",
      " [5.5 0. ]]\n",
      "Assignments:\n",
      " [0 0 1 0 0 1]\n"
     ]
    }
   ],
   "source": [
    "import numpy as np\n",
    "import pandas as pd\n",
    "\n",
    "def initialize_centroids(data, k):\n",
    "    \"\"\"Randomly initialize centroids.\"\"\"\n",
    "    indices = np.random.choice(data.shape[0], k, replace=False)\n",
    "    return data.iloc[indices].values\n",
    "\n",
    "def assign_clusters(data, centroids):\n",
    "    \"\"\"Assign data points to the nearest centroid.\"\"\"\n",
    "    distances = np.sqrt(((data.values[:, np.newaxis, :] - centroids[np.newaxis, :, :])**2).sum(axis=2))\n",
    "    return np.argmin(distances, axis=1)\n",
    "\n",
    "def update_centroids(data, assignments, k):\n",
    "    \"\"\"Update centroids to the mean of assigned data points.\"\"\"\n",
    "    return np.array([data[assignments == i].mean().values for i in range(k)])\n",
    "\n",
    "def k_means_clustering(data, k, max_iters=100):\n",
    "    \"\"\"K-means clustering algorithm.\"\"\"\n",
    "    centroids = initialize_centroids(data, k)\n",
    "    for _ in range(max_iters):\n",
    "        old_centroids = centroids\n",
    "        assignments = assign_clusters(data, centroids)\n",
    "        centroids = update_centroids(data, assignments, k)\n",
    "        \n",
    "        if np.allclose(centroids, old_centroids):\n",
    "            break\n",
    "\n",
    "    return centroids, assignments\n",
    "\n",
    "# Example usage\n",
    "data = pd.DataFrame({\n",
    "    'Feature1': [1, 1, 1, 10, 10, 10],\n",
    "    'Feature2': [2, 4, 0, 2, 4, 0]\n",
    "})\n",
    "k = 2  # number of clusters\n",
    "centroids, assignments = k_means_clustering(data, k)\n",
    "print(\"Centroids:\\n\", centroids)\n",
    "print(\"Assignments:\\n\", assignments)\n"
   ]
  },
  {
   "cell_type": "code",
   "execution_count": 2,
   "id": "de629691-6b18-496b-81a4-85311d1b756e",
   "metadata": {},
   "outputs": [
    {
     "ename": "ValueError",
     "evalue": "a must be greater than 0 unless no samples are taken",
     "output_type": "error",
     "traceback": [
      "\u001b[0;31m---------------------------------------------------------------------------\u001b[0m",
      "\u001b[0;31mValueError\u001b[0m                                Traceback (most recent call last)",
      "Cell \u001b[0;32mIn[2], line 50\u001b[0m\n\u001b[1;32m     45\u001b[0m data \u001b[38;5;241m=\u001b[39m np\u001b[38;5;241m.\u001b[39marray([\n\u001b[1;32m     46\u001b[0m     \u001b[38;5;66;03m# example binary data for Hist1 region\u001b[39;00m\n\u001b[1;32m     47\u001b[0m ])\n\u001b[1;32m     49\u001b[0m k \u001b[38;5;241m=\u001b[39m \u001b[38;5;241m3\u001b[39m  \u001b[38;5;66;03m# number of clusters\u001b[39;00m\n\u001b[0;32m---> 50\u001b[0m medoids, assignments \u001b[38;5;241m=\u001b[39m \u001b[43mk_medoids_clustering\u001b[49m\u001b[43m(\u001b[49m\u001b[43mdata\u001b[49m\u001b[43m,\u001b[49m\u001b[43m \u001b[49m\u001b[43mk\u001b[49m\u001b[43m,\u001b[49m\u001b[43m \u001b[49m\u001b[43mjaccard_distance\u001b[49m\u001b[43m)\u001b[49m\n",
      "Cell \u001b[0;32mIn[2], line 27\u001b[0m, in \u001b[0;36mk_medoids_clustering\u001b[0;34m(data, k, distance_func, max_iters)\u001b[0m\n\u001b[1;32m     25\u001b[0m \u001b[38;5;28;01mdef\u001b[39;00m \u001b[38;5;21mk_medoids_clustering\u001b[39m(data, k, distance_func, max_iters\u001b[38;5;241m=\u001b[39m\u001b[38;5;241m100\u001b[39m):\n\u001b[1;32m     26\u001b[0m     \u001b[38;5;66;03m# Step 1: Initialize medoids\u001b[39;00m\n\u001b[0;32m---> 27\u001b[0m     indices \u001b[38;5;241m=\u001b[39m \u001b[43mnp\u001b[49m\u001b[38;5;241;43m.\u001b[39;49m\u001b[43mrandom\u001b[49m\u001b[38;5;241;43m.\u001b[39;49m\u001b[43mchoice\u001b[49m\u001b[43m(\u001b[49m\u001b[43mdata\u001b[49m\u001b[38;5;241;43m.\u001b[39;49m\u001b[43mshape\u001b[49m\u001b[43m[\u001b[49m\u001b[38;5;241;43m0\u001b[39;49m\u001b[43m]\u001b[49m\u001b[43m,\u001b[49m\u001b[43m \u001b[49m\u001b[43mk\u001b[49m\u001b[43m,\u001b[49m\u001b[43m \u001b[49m\u001b[43mreplace\u001b[49m\u001b[38;5;241;43m=\u001b[39;49m\u001b[38;5;28;43;01mFalse\u001b[39;49;00m\u001b[43m)\u001b[49m\n\u001b[1;32m     28\u001b[0m     medoids \u001b[38;5;241m=\u001b[39m data[indices]\n\u001b[1;32m     30\u001b[0m     \u001b[38;5;28;01mfor\u001b[39;00m _ \u001b[38;5;129;01min\u001b[39;00m \u001b[38;5;28mrange\u001b[39m(max_iters):\n",
      "File \u001b[0;32mmtrand.pyx:909\u001b[0m, in \u001b[0;36mnumpy.random.mtrand.RandomState.choice\u001b[0;34m()\u001b[0m\n",
      "\u001b[0;31mValueError\u001b[0m: a must be greater than 0 unless no samples are taken"
     ]
    }
   ],
   "source": [
    "import numpy as np\n",
    "import pandas as pd\n",
    "from scipy.spatial.distance import cdist\n",
    "\n",
    "def jaccard_distance(point1, point2):\n",
    "    M11 = np.sum(np.logical_and(point1, point2))\n",
    "    min_A_B = min(np.sum(point1), np.sum(point2))\n",
    "    return 1 - (M11 / min_A_B) if min_A_B != 0 else 1\n",
    "\n",
    "def assign_clusters(data, medoids, distance_func):\n",
    "    distances = cdist(data, medoids, metric=distance_func)\n",
    "    return np.argmin(distances, axis=1)\n",
    "\n",
    "def find_medoids(data, assignments, k):\n",
    "    medoids = np.zeros((k, data.shape[1]))\n",
    "    for i in range(k):\n",
    "        cluster_points = data[assignments == i]\n",
    "        if len(cluster_points) == 0:\n",
    "            continue\n",
    "        distances = cdist(cluster_points, cluster_points, metric='euclidean')\n",
    "        medoid_index = np.argmin(np.sum(distances, axis=1))\n",
    "        medoids[i] = cluster_points[medoid_index]\n",
    "    return medoids\n",
    "\n",
    "def k_medoids_clustering(data, k, distance_func, max_iters=100):\n",
    "    # Step 1: Initialize medoids\n",
    "    indices = np.random.choice(data.shape[0], k, replace=False)\n",
    "    medoids = data[indices]\n",
    "\n",
    "    for _ in range(max_iters):\n",
    "        old_medoids = np.copy(medoids)\n",
    "        \n",
    "        # Step 2 & 3: Assign clusters\n",
    "        assignments = assign_clusters(data, medoids, distance_func)\n",
    "        \n",
    "        # Step 4: Find new medoids\n",
    "        medoids = find_medoids(data, assignments, k)\n",
    "\n",
    "        if np.all(medoids == old_medoids):\n",
    "            break\n",
    "\n",
    "    return medoids, assignments\n",
    "\n",
    "# Example usage\n",
    "data = np.array([\n",
    "    # example binary data for Hist1 region\n",
    "])\n",
    "\n",
    "k = 3  # number of clusters\n",
    "medoids, assignments = k_medoids_clustering(data, k, jaccard_distance)\n"
   ]
  },
  {
   "cell_type": "code",
   "execution_count": null,
   "id": "fbaf0889-7ecb-4476-a64c-9cb197ee1223",
   "metadata": {},
   "outputs": [],
   "source": []
  }
 ],
 "metadata": {
  "kernelspec": {
   "display_name": "Python 3 (ipykernel)",
   "language": "python",
   "name": "python3"
  },
  "language_info": {
   "codemirror_mode": {
    "name": "ipython",
    "version": 3
   },
   "file_extension": ".py",
   "mimetype": "text/x-python",
   "name": "python",
   "nbconvert_exporter": "python",
   "pygments_lexer": "ipython3",
   "version": "3.8.18"
  }
 },
 "nbformat": 4,
 "nbformat_minor": 5
}
