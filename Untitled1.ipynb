{
 "cells": [
  {
   "cell_type": "code",
   "execution_count": null,
   "id": "3211c7e8-52f9-4204-a33a-68d5b960ec55",
   "metadata": {},
   "outputs": [],
   "source": [
    "def lagrange_interpolation(xcoords, ycoords, x):\n",
    "    \"\"\"\n",
    "    Calculate the value at x of the interpolating polynomial that passes through\n",
    "    all (xcoords, ycoords) points.\n",
    "    \"\"\"\n",
    "    n = len(xcoords)\n",
    "    if n != len(ycoords):\n",
    "        raise ValueError(\"xcoords and ycoords must be of the same length\")\n",
    "\n",
    "    interpolated_value = 0\n",
    "    for k in range(n):\n",
    "        L_k = lagrange_basis(xcoords, k, x)\n",
    "        interpolated_value += ycoords[k] * L_k\n",
    "\n",
    "    return interpolated_value\n",
    "\n",
    "# Testing the function by plotting it for xcoords=[1,2,3,4] and ycoords=[-6,2,-10,12]\n",
    "xcoords_test2 = [1, 2, 3, 4]\n",
    "ycoords_test2 = [-6, 2, -10, 12]\n",
    "\n",
    "y_values_interpolated = [lagrange_interpolation(xcoords_test2, ycoords_test2, x) for x in x_values]\n",
    "\n",
    "plt.figure()\n",
    "plt.plot(x_values, y_values_interpolated, label=\"Lagrange Interpolating Polynomial\")\n",
    "plt.scatter(xcoords_test2, ycoords_test2, color='red')\n",
    "plt.xlabel('x')\n",
    "plt.ylabel('P(x)')\n",
    "plt.title('Lagrange Interpolation')\n",
    "plt.legend()\n",
    "plt.grid(True)\n",
    "plt.show()\n"
   ]
  },
  {
   "cell_type": "code",
   "execution_count": null,
   "id": "f9e2b1f5-9acb-4a58-942b-75c6acaeb098",
   "metadata": {},
   "outputs": [],
   "source": [
    "import numpy as np\n",
    "import matplotlib.pyplot as plt\n",
    "\n",
    "def lagrange_basis(xcoords, k, x):\n",
    "    \"\"\"\n",
    "    Calculate the value at x of the Lagrange interpolating (basis) polynomial \n",
    "    that is 1 at xcoords[k] and 0 at the other xcoords.\n",
    "    \"\"\"\n",
    "    L = 1\n",
    "    for i, xi in enumerate(xcoords):\n",
    "        if i != k:\n",
    "            L *= (x - xi) / (xcoords[k] - xi)\n",
    "    return L\n",
    "\n",
    "# Testing the function by plotting it for xcoords=[1,2,3,4] and k=2\n",
    "xcoords_test = [1, 2, 3, 4]\n",
    "k_test = 2\n",
    "x_values = np.linspace(0, 5, 100)  # Generate 100 points between 0 and 5\n",
    "y_values = [lagrange_basis(xcoords_test, k_test, x) for x in x_values]\n",
    "\n",
    "plt.figure()\n",
    "plt.plot(x_values, y_values, label=\"Lagrange Basis Polynomial (k=2)\")\n",
    "plt.scatter(xcoords_test, [lagrange_basis(xcoords_test, k_test, xi) for xi in xcoords_test], color='red')\n",
    "plt.xlabel('x')\n",
    "plt.ylabel('L(x)')\n",
    "plt.title('Lagrange Basis Polynomial')\n",
    "plt.legend()\n",
    "plt.grid(True)\n",
    "plt.show()\n"
   ]
  }
 ],
 "metadata": {
  "kernelspec": {
   "display_name": "Python 3 (ipykernel)",
   "language": "python",
   "name": "python3"
  },
  "language_info": {
   "codemirror_mode": {
    "name": "ipython",
    "version": 3
   },
   "file_extension": ".py",
   "mimetype": "text/x-python",
   "name": "python",
   "nbconvert_exporter": "python",
   "pygments_lexer": "ipython3",
   "version": "3.8.18"
  }
 },
 "nbformat": 4,
 "nbformat_minor": 5
}
